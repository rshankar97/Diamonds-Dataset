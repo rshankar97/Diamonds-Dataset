{
 "cells": [
  {
   "cell_type": "code",
   "execution_count": 53,
   "metadata": {},
   "outputs": [],
   "source": [
    "from sklearn.metrics import mean_squared_error\n",
    "from sklearn.ensemble import RandomForestRegressor, GradientBoostingRegressor, AdaBoostRegressor\n",
    "from sklearn.linear_model import Ridge, LinearRegression, Lasso\n",
    "from sklearn.model_selection import RandomizedSearchCV, GridSearchCV\n",
    "from sklearn.svm import SVR\n",
    "import numpy as np\n",
    "import pandas as pd\n",
    "import seaborn as sns\n",
    "import matplotlib.pyplot as plt\n",
    "from tqdm import tqdm\n",
    "import os\n",
    "import json\n",
    "import ast\n",
    "import warnings\n",
    "\n",
    "cwd = os.getcwd()\n",
    "warnings.filterwarnings('ignore')"
   ]
  },
  {
   "cell_type": "code",
   "execution_count": 54,
   "metadata": {},
   "outputs": [],
   "source": [
    "read_dir = os.path.join(cwd,'datasets')\n",
    "train = pd.read_csv(os.path.join(read_dir,'train_pca.csv'))\n",
    "val = pd.read_csv(os.path.join(read_dir,'val_pca.csv'))"
   ]
  },
  {
   "cell_type": "code",
   "execution_count": 55,
   "metadata": {},
   "outputs": [],
   "source": [
    "index = train.keys()\n",
    "index_x = [ind for ind in index if ind!= 'price' and ind!= 'index']"
   ]
  },
  {
   "cell_type": "code",
   "execution_count": 56,
   "metadata": {},
   "outputs": [],
   "source": [
    "y_train = train['price']\n",
    "X_train = train[index_x]\n",
    "\n",
    "y_val = val['price']\n",
    "X_val = val[index_x]\n",
    "\n",
    "y_train = np.array(y_train).reshape(-1,1)\n",
    "y_val = np.array(y_val).reshape(-1,1)"
   ]
  },
  {
   "cell_type": "code",
   "execution_count": 57,
   "metadata": {},
   "outputs": [
    {
     "name": "stdout",
     "output_type": "stream",
     "text": [
      "Linear Regression RMSE: 0.369\n",
      "Lasso RMSE: 0.673\n",
      "Ridge RMSE: 0.369\n",
      "Random Forest RMSE: 0.158\n",
      "Gradient Boosting RMSE: 0.172\n"
     ]
    }
   ],
   "source": [
    "models = {'Linear Regression': LinearRegression(), 'Lasso': Lasso(),\n",
    "          'Ridge':Ridge(), 'Random Forest': RandomForestRegressor(),'Gradient Boosting': GradientBoostingRegressor()}\n",
    "\n",
    "for k,v in models.items():   \n",
    "    model = v\n",
    "    model.fit(X_train, y_train)\n",
    "    y_pred = model.predict(X_val)\n",
    "    mse = mean_squared_error(y_val, y_pred)\n",
    "    rmse = np.sqrt(mse)\n",
    "    print('{} RMSE: {:.3f}'.format(k,rmse))"
   ]
  },
  {
   "cell_type": "markdown",
   "metadata": {},
   "source": [
    "# It is clear that gradient boosting ensemble methods are the best for regression of this task - therefore the focus should be optimising boosting methods."
   ]
  },
  {
   "cell_type": "code",
   "execution_count": 58,
   "metadata": {},
   "outputs": [
    {
     "data": {
      "text/plain": [
       "GridSearchCV(cv=5, error_score='raise-deprecating',\n",
       "       estimator=GradientBoostingRegressor(alpha=0.9, criterion='friedman_mse', init=None,\n",
       "             learning_rate=0.1, loss='ls', max_depth=3, max_features=None,\n",
       "             max_leaf_nodes=None, min_impurity_decrease=0.0,\n",
       "             min_impurity_split=None, min_samples_leaf=1,\n",
       "             min_sampl...=None, subsample=1.0, tol=0.0001,\n",
       "             validation_fraction=0.1, verbose=0, warm_start=False),\n",
       "       fit_params=None, iid='warn', n_jobs=None,\n",
       "       param_grid={'n_estimators': [3, 10, 30], 'max_depth': [2, 4, 6, 8], 'learning_rate': [0.1, 0.2, 0.3, 0.4, 0.5, 0.75, 1.0]},\n",
       "       pre_dispatch='2*n_jobs', refit=True, return_train_score=True,\n",
       "       scoring='neg_mean_squared_error', verbose=0)"
      ]
     },
     "execution_count": 58,
     "metadata": {},
     "output_type": "execute_result"
    }
   ],
   "source": [
    "param_grid = {'n_estimators':[3,10,30],'max_depth':[2,4,6,8], \n",
    "              'learning_rate':[0.1,0.2,0.3,0.4,0.5,0.75,1.0]}\n",
    "GBR = GradientBoostingRegressor()\n",
    "grid_search_GBR = GridSearchCV(GBR, param_grid, cv=5, scoring='neg_mean_squared_error', return_train_score=True)\n",
    "grid_search_GBR.fit(X_train, y_train)"
   ]
  },
  {
   "cell_type": "code",
   "execution_count": null,
   "metadata": {},
   "outputs": [
    {
     "name": "stdout",
     "output_type": "stream",
     "text": [
      "0.15018432147244953\n"
     ]
    }
   ],
   "source": [
    "y_predGSGBR = grid_search_GBR.predict(X_val)\n",
    "mse_GBR = mean_squared_error(y_val,y_predGSGBR)\n",
    "rmse_GBR = np.sqrt(mse_GBR)\n",
    "print(rmse_GBR)"
   ]
  },
  {
   "cell_type": "code",
   "execution_count": null,
   "metadata": {},
   "outputs": [],
   "source": [
    "param_grid = {'n_estimators':[100,200,300,400,500],'max_depth':[2,3,4,5], \n",
    "              'learning_rate':[0.1,0.2,0.3,0.4]}\n",
    "GBR = GradientBoostingRegressor()\n",
    "grid_search_GBR = GridSearchCV(GBR, param_grid, cv=5, scoring='neg_mean_squared_error', return_train_score=True)\n",
    "grid_search_GBR.fit(X_train, y_train)"
   ]
  },
  {
   "cell_type": "code",
   "execution_count": null,
   "metadata": {},
   "outputs": [],
   "source": [
    "print(grid_search_GBR.best_params_)"
   ]
  },
  {
   "cell_type": "code",
   "execution_count": null,
   "metadata": {},
   "outputs": [],
   "source": [
    "break\n",
    "y_predGSGBR = grid_search_GBR.predict(X_val)\n",
    "mse_GBR = mean_squared_error(y_val,y_predGSGBR)\n",
    "rmse_GBR = np.sqrt(mse_GBR)\n",
    "print(rmse_GBR)"
   ]
  },
  {
   "cell_type": "code",
   "execution_count": null,
   "metadata": {},
   "outputs": [],
   "source": [
    "param_grid = {'n_estimators':[100,200,300,400,500],'max_depth':[2,3,4,5], \n",
    "              'max_leaf_nodes':[10,15,20]}\n",
    "RFR = RandomForestRegressor()\n",
    "grid_search_RFR = GridSearchCV(RFR, param_grid, cv=5, scoring='neg_mean_squared_error', return_train_score=True)\n",
    "grid_search_RFR.fit(X_train, y_train)"
   ]
  },
  {
   "cell_type": "code",
   "execution_count": null,
   "metadata": {},
   "outputs": [],
   "source": [
    "y_predGSRF = grid_search_RFR.predict(X_val)\n",
    "mse_RF = mean_squared_error(y_val,y_predGSRF)\n",
    "rmse_RF = np.sqrt(mse_RF)\n",
    "print(rmse_RF)"
   ]
  }
 ],
 "metadata": {
  "kernelspec": {
   "display_name": "Python 3",
   "language": "python",
   "name": "python3"
  },
  "language_info": {
   "codemirror_mode": {
    "name": "ipython",
    "version": 3
   },
   "file_extension": ".py",
   "mimetype": "text/x-python",
   "name": "python",
   "nbconvert_exporter": "python",
   "pygments_lexer": "ipython3",
   "version": "3.7.0"
  }
 },
 "nbformat": 4,
 "nbformat_minor": 2
}
