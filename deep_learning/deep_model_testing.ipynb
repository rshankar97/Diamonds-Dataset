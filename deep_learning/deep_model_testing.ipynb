{
 "cells": [
  {
   "cell_type": "code",
   "execution_count": 1,
   "metadata": {},
   "outputs": [],
   "source": [
    "import torch\n",
    "import torch.nn as nn\n",
    "from torch.utils.data import Dataset, DataLoader\n",
    "import numpy as np\n",
    "import pandas as pd\n",
    "import os \n",
    "from tqdm import tqdm\n",
    "import torch.nn.functional as F\n",
    "from torch.utils.tensorboard import SummaryWriter\n",
    "import datetime\n",
    "from data_loader import Diamond\n",
    "from DeepRegress import RegressNet\n",
    "import seaborn as sns\n",
    "import matplotlib.pyplot as plt\n",
    "from sklearn.metrics import r2_score, mean_squared_error"
   ]
  },
  {
   "cell_type": "code",
   "execution_count": 8,
   "metadata": {},
   "outputs": [],
   "source": [
    "val_csv = 'val_pca.csv'\n",
    "parent_dir = os.path.abspath(os.path.join(os.getcwd(),os.pardir))\n",
    "root_dir = os.path.join(parent_dir,'datasets')\n",
    "save_dir = os.path.join(os.getcwd(),'training_checkpoints')"
   ]
  },
  {
   "cell_type": "code",
   "execution_count": 9,
   "metadata": {},
   "outputs": [],
   "source": [
    "val_file = pd.read_csv(os.path.join(root_dir,'val_pca.csv'))\n",
    "y_val = val_file['price']\n"
   ]
  },
  {
   "cell_type": "code",
   "execution_count": 11,
   "metadata": {},
   "outputs": [
    {
     "name": "stderr",
     "output_type": "stream",
     "text": [
      "100%|██████████████████████████████████████████████████████████████████████████| 10788/10788 [00:04<00:00, 2213.81it/s]\n"
     ]
    },
    {
     "name": "stdout",
     "output_type": "stream",
     "text": [
      "r2 score:0.9275639475353319, rmse:0.2681357009965835\n"
     ]
    }
   ],
   "source": [
    "epochs = 200\n",
    "trial_file = '20190920-103129_{}.pth'.format(epochs)\n",
    "model_path = os.path.join(save_dir, trial_file)\n",
    "batch_size = 4\n",
    "val = Diamond(csv_file=val_csv,root_dir=root_dir)\n",
    "valload = DataLoader(val, batch_size=batch_size//4, shuffle=False)\n",
    "model = RegressNet(6,100,1)\n",
    "state_dict = torch.load(model_path)\n",
    "model.load_state_dict(state_dict['model'])\n",
    "model.eval()\n",
    "targ = []\n",
    "output = []\n",
    "error = []\n",
    "v_running_loss = 0.0\n",
    "with torch.no_grad():\n",
    "    for test in tqdm(valload):\n",
    "        feature = test['feature']\n",
    "        target = test['target']\n",
    "        out = model(feature)    \n",
    "        targ.append(target)\n",
    "        output.append(out)\n",
    "        error.append(out-target)\n",
    "        v_loss = np.square(out.numpy(),target.numpy())\n",
    "        v_running_loss += v_loss\n",
    "\n",
    "r2 = r2_score(y_val, output) \n",
    "mse = mean_squared_error(y_val, output)\n",
    "rmse = np.sqrt(mse)\n",
    "\n",
    "print('r2 score:{}, rmse:{}'.format(r2,rmse))"
   ]
  },
  {
   "cell_type": "code",
   "execution_count": 13,
   "metadata": {},
   "outputs": [
    {
     "name": "stderr",
     "output_type": "stream",
     "text": [
      "100%|██████████████████████████████████████████████████████████████████████████| 10788/10788 [00:04<00:00, 2218.22it/s]\n"
     ]
    },
    {
     "name": "stdout",
     "output_type": "stream",
     "text": [
      "r2 score:0.8985200401071707, rmse:0.3173711154355602\n"
     ]
    }
   ],
   "source": [
    "epochs = 100\n",
    "trial_file = '20190920-103129_{}.pth'.format(epochs)\n",
    "model_path = os.path.join(save_dir, trial_file)\n",
    "batch_size = 4\n",
    "val = Diamond(csv_file=val_csv,root_dir=root_dir)\n",
    "valload = DataLoader(val, batch_size=batch_size//4, shuffle=False)\n",
    "model = RegressNet(6,100,1)\n",
    "state_dict = torch.load(model_path)\n",
    "model.load_state_dict(state_dict['model'])\n",
    "model.eval()\n",
    "targ = []\n",
    "output = []\n",
    "error = []\n",
    "v_running_loss = 0.0\n",
    "with torch.no_grad():\n",
    "    for test in tqdm(valload):\n",
    "        feature = test['feature']\n",
    "        target = test['target']\n",
    "        out = model(feature)    \n",
    "        targ.append(target)\n",
    "        output.append(out)\n",
    "        error.append(out-target)\n",
    "        v_loss = np.square(out.numpy(),target.numpy())\n",
    "        v_running_loss += v_loss\n",
    "\n",
    "r2 = r2_score(y_val, output) \n",
    "mse = mean_squared_error(y_val, output)\n",
    "rmse = np.sqrt(mse)\n",
    "\n",
    "print('r2 score:{}, rmse:{}'.format(r2,rmse))"
   ]
  },
  {
   "cell_type": "code",
   "execution_count": 12,
   "metadata": {},
   "outputs": [
    {
     "name": "stderr",
     "output_type": "stream",
     "text": [
      "C:\\Users\\Rajeev\\Anaconda3\\envs\\development\\lib\\site-packages\\scipy\\stats\\stats.py:1713: FutureWarning: Using a non-tuple sequence for multidimensional indexing is deprecated; use `arr[tuple(seq)]` instead of `arr[seq]`. In the future this will be interpreted as an array index, `arr[np.array(seq)]`, which will result either in an error or a different result.\n",
      "  return np.add.reduce(sorted[indexer] * weights, axis=axis) / sumval\n"
     ]
    },
    {
     "data": {
      "text/plain": [
       "<matplotlib.axes._subplots.AxesSubplot at 0x2593b60ae48>"
      ]
     },
     "execution_count": 12,
     "metadata": {},
     "output_type": "execute_result"
    },
    {
     "data": {
      "image/png": "[encoded data removed]",
      "text/plain": [
       "<Figure size 432x288 with 1 Axes>"
      ]
     },
     "metadata": {
      "needs_background": "light"
     },
     "output_type": "display_data"
    }
   ],
   "source": [
    "sns.violinplot(y_val)"
   ]
  },
  {
   "cell_type": "code",
   "execution_count": 16,
   "metadata": {},
   "outputs": [
    {
     "data": {
      "text/plain": [
       "<matplotlib.axes._subplots.AxesSubplot at 0x234c080b9b0>"
      ]
     },
     "execution_count": 16,
     "metadata": {},
     "output_type": "execute_result"
    },
    {
     "data": {
      "image/png": "[encoded data removed]",
      "text/plain": [
       "<Figure size 432x288 with 1 Axes>"
      ]
     },
     "metadata": {
      "needs_background": "light"
     },
     "output_type": "display_data"
    }
   ],
   "source": [
    "sns.violinplot(np.array(output))"
   ]
  },
  {
   "cell_type": "code",
   "execution_count": 17,
   "metadata": {},
   "outputs": [
    {
     "data": {
      "text/plain": [
       "<matplotlib.axes._subplots.AxesSubplot at 0x234c0ab8b38>"
      ]
     },
     "execution_count": 17,
     "metadata": {},
     "output_type": "execute_result"
    },
    {
     "data": {
      "image/png": "[encoded data removed]",
      "text/plain": [
       "<Figure size 432x288 with 1 Axes>"
      ]
     },
     "metadata": {
      "needs_background": "light"
     },
     "output_type": "display_data"
    },
    {
     "data": {
      "text/plain": [
       "<Figure size 1152x1152 with 0 Axes>"
      ]
     },
     "metadata": {},
     "output_type": "display_data"
    }
   ],
   "source": [
    "fig, ax = plt.subplots()\n",
    "fig.legend('on')\n",
    "plt.figure(figsize=(16,16))\n",
    "sns.kdeplot(np.array(output), ax=ax)\n",
    "sns.kdeplot(y_val, ax=ax)"
   ]
  },
  {
   "cell_type": "code",
   "execution_count": null,
   "metadata": {},
   "outputs": [],
   "source": []
  }
 ],
 "metadata": {
  "kernelspec": {
   "display_name": "Python 3",
   "language": "python",
   "name": "python3"
  },
  "language_info": {
   "codemirror_mode": {
    "name": "ipython",
    "version": 3
   },
   "file_extension": ".py",
   "mimetype": "text/x-python",
   "name": "python",
   "nbconvert_exporter": "python",
   "pygments_lexer": "ipython3",
   "version": "3.7.0"
  }
 },
 "nbformat": 4,
 "nbformat_minor": 2
}
