{
 "cells": [
  {
   "cell_type": "markdown",
   "metadata": {},
   "source": [
    "# Principal Component Analysis for Dimensionality Reduction\n",
    "\n",
    "In this notebook, principal component analysis (PCA) of the dataset is tested to see if dimensionality reduction is possible for this dataset. PCA is useful as it can reduce the data input into the model during training without sacrificing model accuracy. From the exploratory data analysis, correlated variables were found and pca will be applied to these variables. \n",
    "\n",
    "PCA, much like the machine learning models will be fitted to the training dataset and then tested on the test and validation sets. \n",
    "\n",
    "The R^2 score will be used for measuring accuracy - this is a standard metric in regression. The model used is a random forest regressor."
   ]
  },
  {
   "cell_type": "code",
   "execution_count": 1,
   "metadata": {},
   "outputs": [],
   "source": [
    "import pandas as pd\n",
    "import numpy as np\n",
    "from pandas.plotting import scatter_matrix\n",
    "import matplotlib.pyplot as plt\n",
    "import os\n",
    "from tqdm import tqdm\n",
    "from sklearn.preprocessing import OrdinalEncoder, OneHotEncoder, LabelEncoder, StandardScaler\n",
    "from sklearn.decomposition import PCA\n",
    "from sklearn.model_selection import StratifiedShuffleSplit, train_test_split\n",
    "import seaborn as sns\n",
    "from sklearn.metrics import mean_squared_error, r2_score\n",
    "from sklearn.ensemble import RandomForestRegressor"
   ]
  },
  {
   "cell_type": "code",
   "execution_count": 2,
   "metadata": {},
   "outputs": [
    {
     "data": {
      "text/plain": [
       "<matplotlib.axes._subplots.AxesSubplot at 0x25907eb3080>"
      ]
     },
     "execution_count": 2,
     "metadata": {},
     "output_type": "execute_result"
    },
    {
     "data": {
      "image/png": "[encoded data removed]",
      "text/plain": [
       "<Figure size 432x288 with 2 Axes>"
      ]
     },
     "metadata": {
      "needs_background": "light"
     },
     "output_type": "display_data"
    }
   ],
   "source": [
    "read_dir = os.path.join(os.getcwd(),'datasets')\n",
    "diamonds_df = pd.read_csv(os.path.join(read_dir,'diamonds.csv'))\n",
    "correlation_df = diamonds_df[['price', 'x','y','z','depth','table']]\n",
    "corr_matrix = correlation_df.corr()\n",
    "sns.heatmap(corr_matrix)"
   ]
  },
  {
   "cell_type": "markdown",
   "metadata": {},
   "source": [
    "**This heatmap shows that x,y,z dimensions are highly correlated - this makes dimensionality reduction through pca more feasible and useful.**"
   ]
  },
  {
   "cell_type": "code",
   "execution_count": 3,
   "metadata": {},
   "outputs": [],
   "source": [
    "train = pd.read_csv(os.path.join(read_dir,'train.csv'))\n",
    "pca_list=['depth','table','x','y','z']\n",
    "index = train.keys()\n",
    "index_x = [ind for ind in index if ind!= 'price' and ind!= 'index']\n",
    "y_train = train['price']\n",
    "X_train = train[index_x]\n",
    "\n",
    "val = pd.read_csv(os.path.join(read_dir,'val.csv'))\n",
    "y_val = val['price']\n",
    "X_val = val[index_x]"
   ]
  },
  {
   "cell_type": "code",
   "execution_count": 4,
   "metadata": {},
   "outputs": [
    {
     "name": "stdout",
     "output_type": "stream",
     "text": [
      "[0.59697796 0.25292968 0.13434923]\n"
     ]
    }
   ],
   "source": [
    "X_trainpca = X_train[pca_list]\n",
    "X_valpca = X_val[pca_list]\n",
    "pca= PCA(n_components=3)\n",
    "X_tpca = pca.fit_transform(X_trainpca)\n",
    "print(pca.explained_variance_ratio_)"
   ]
  },
  {
   "cell_type": "markdown",
   "metadata": {},
   "source": [
    "**The variation in the three dimensions accounts for almost all variation in the five dimensions of the diamond - allowing for a 25% decrease in data required.**"
   ]
  },
  {
   "cell_type": "code",
   "execution_count": 5,
   "metadata": {},
   "outputs": [],
   "source": [
    "X_tnpca = X_train[[i for i in X_train.keys() if i not in pca_list]]\n",
    "X_trainin = np.concatenate((np.array(X_tpca), np.array(X_tnpca)), axis=1)\n",
    "train_pca = np.concatenate((np.array(y_train).reshape(-1,1),X_trainin),axis=1)\n",
    "train_pcadf = pd.DataFrame(train_pca)\n",
    "train_pcadf = train_pcadf.rename(columns={0:'price',1:'dimension 1',2:'dimension 2', 3:'dimension 3', 4: 'color',5:'clarity',6:'cut'})\n",
    "train_pcadf.to_csv(os.path.join(read_dir,'train_pca.csv' ))"
   ]
  },
  {
   "cell_type": "code",
   "execution_count": 6,
   "metadata": {},
   "outputs": [],
   "source": [
    "X_valpca = X_val[pca_list]\n",
    "X_valpca = pca.transform(X_valpca)\n",
    "X_vnpca = X_val[[i for i in X_train.keys() if i not in pca_list]]\n",
    "X_valin = np.concatenate((np.array(X_valpca), np.array(X_vnpca)), axis=1)\n",
    "val_pca = np.concatenate((np.array(y_val).reshape(-1,1),X_valin),axis=1)\n",
    "val_pcadf = pd.DataFrame(val_pca)\n",
    "val_pcadf = val_pcadf.rename(columns={0:'price',1:'dimension 1',2:'dimension 2', 3:'dimension 3', 4: 'color',5:'clarity',6:'cut'})\n",
    "val_pcadf.to_csv(os.path.join(read_dir,'val_pca.csv' ))"
   ]
  },
  {
   "cell_type": "code",
   "execution_count": 7,
   "metadata": {},
   "outputs": [],
   "source": [
    "test = pd.read_csv(os.path.join(read_dir,'test.csv' ))\n",
    "y_test = test['price']\n",
    "X_test = test[index_x]\n",
    "X_testpca = X_test[pca_list]\n",
    "X_testpca = pca.transform(X_testpca)\n",
    "X_testnpca = X_test[[i for i in X_train.keys() if i not in pca_list]]\n",
    "X_testin = np.concatenate((np.array(X_testpca), np.array(X_testnpca)), axis=1)\n",
    "test_pca = np.concatenate((np.array(y_test).reshape(-1,1),X_testin),axis=1)\n",
    "test_pcadf = pd.DataFrame(test_pca)\n",
    "test_pcadf = test_pcadf.rename(columns={0:'price',1:'dimension 1',2:'dimension 2', 3:'dimension 3', 4: 'color',5:'clarity',6:'cut'})\n",
    "test_pcadf.to_csv(os.path.join(read_dir,'test_pca.csv' ))"
   ]
  },
  {
   "cell_type": "code",
   "execution_count": 8,
   "metadata": {},
   "outputs": [
    {
     "name": "stderr",
     "output_type": "stream",
     "text": [
      "C:\\Users\\Rajeev\\Anaconda3\\envs\\development\\lib\\site-packages\\sklearn\\ensemble\\forest.py:246: FutureWarning: The default value of n_estimators will change from 10 in version 0.20 to 100 in 0.22.\n",
      "  \"10 in version 0.20 to 100 in 0.22.\", FutureWarning)\n"
     ]
    }
   ],
   "source": [
    "model_RFD = RandomForestRegressor()\n",
    "model_RFD.fit(X_trainin,y_train)\n",
    "y_pred_RFD = model_RFD.predict(X_valin)\n",
    "mse_RFD = mean_squared_error(y_val,y_pred_RFD)\n",
    "rmse_RFD = np.sqrt(mse_RFD)\n",
    "r2D = r2_score(y_val, y_pred_RFD)"
   ]
  },
  {
   "cell_type": "code",
   "execution_count": 9,
   "metadata": {},
   "outputs": [
    {
     "name": "stderr",
     "output_type": "stream",
     "text": [
      "C:\\Users\\Rajeev\\Anaconda3\\envs\\development\\lib\\site-packages\\sklearn\\ensemble\\forest.py:246: FutureWarning: The default value of n_estimators will change from 10 in version 0.20 to 100 in 0.22.\n",
      "  \"10 in version 0.20 to 100 in 0.22.\", FutureWarning)\n"
     ]
    }
   ],
   "source": [
    "model_RF = RandomForestRegressor()\n",
    "model_RF.fit(X_train,y_train)\n",
    "y_pred_RF = model_RF.predict(X_val)\n",
    "mse_RF = mean_squared_error(y_val,y_pred_RF)\n",
    "rmse_RF = np.sqrt(mse_RF)\n",
    "r2 = r2_score(y_val, y_pred_RF)\n"
   ]
  },
  {
   "cell_type": "code",
   "execution_count": 10,
   "metadata": {},
   "outputs": [
    {
     "name": "stdout",
     "output_type": "stream",
     "text": [
      "R2 with PCA:0.972432973849473, R2 with no PCA: 0.9756240765579043\n"
     ]
    }
   ],
   "source": [
    "print('R2 with PCA:{}, R2 with no PCA: {}'.format(r2D,r2))"
   ]
  },
  {
   "cell_type": "markdown",
   "metadata": {},
   "source": [
    "**This result shows that PCA and the 25% reduction in data required didn't cause a significant decrease in model performance.**"
   ]
  }
 ],
 "metadata": {
  "kernelspec": {
   "display_name": "Python 3",
   "language": "python",
   "name": "python3"
  },
  "language_info": {
   "codemirror_mode": {
    "name": "ipython",
    "version": 3
   },
   "file_extension": ".py",
   "mimetype": "text/x-python",
   "name": "python",
   "nbconvert_exporter": "python",
   "pygments_lexer": "ipython3",
   "version": "3.7.0"
  }
 },
 "nbformat": 4,
 "nbformat_minor": 2
}
